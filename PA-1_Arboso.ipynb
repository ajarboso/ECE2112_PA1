{
 "cells": [
  {
   "cell_type": "markdown",
   "id": "553e5606-db4c-4862-ac4e-b8acb1e818a3",
   "metadata": {},
   "source": [
    "# ALPHABET SOUP"
   ]
  },
  {
   "cell_type": "code",
   "execution_count": 30,
   "id": "c2a0c007-6d1c-45b2-ad3e-6146b4efbe91",
   "metadata": {},
   "outputs": [
    {
     "name": "stdout",
     "output_type": "stream",
     "text": [
      "ehllo\n",
      "acehkr\n"
     ]
    }
   ],
   "source": [
    "def alphabet_soup(s):\n",
    "    sorted_s = \"\"  # Initialize an empty string to store the sorted characters\n",
    "\n",
    "    # Continue until the string is empty\n",
    "    while s: \n",
    "        # Find the smallest character in the string\n",
    "        x = min(s) \n",
    "         # Add all occurrences of that character to the sorted string\n",
    "        sorted_s += x * s.count(x)  \n",
    "        # Remove all occurrences of the character from the string\n",
    "        s = s.replace(x, '')\n",
    "    \n",
    "    return sorted_s  # Return the sorted string\n",
    "\n",
    "print(alphabet_soup(\"hello\"))\n",
    "print(alphabet_soup(\"hacker\"))"
   ]
  },
  {
   "cell_type": "code",
   "execution_count": 32,
   "id": "29a505fb-6e05-49a3-9bb9-8e5de1a60e46",
   "metadata": {},
   "outputs": [
    {
     "name": "stdin",
     "output_type": "stream",
     "text": [
      "Enter a sentence:  I am sad\n"
     ]
    },
    {
     "name": "stdout",
     "output_type": "stream",
     "text": [
      "I am :((\n"
     ]
    }
   ],
   "source": [
    "def replace_emoticons(sentence):\n",
    "    # Dictionary mapping words to their corresponding emoticons\n",
    "    d = {\n",
    "        \"smile\": \":)\", \n",
    "        \"grin\": \":D\",\n",
    "        \"sad\": \":((\",\n",
    "        \"mad\": \">:(\"\n",
    "    }\n",
    "    \n",
    "    # Check if any keyword exists in the sentence and replace it with its corresponding emoticon\n",
    "    if \"smile\" in sentence:\n",
    "        sentence = sentence.replace(\"smile\", d[\"smile\"])\n",
    "    elif \"grin\" in sentence:\n",
    "        sentence = sentence.replace(\"grin\", d[\"grin\"])\n",
    "    elif \"sad\" in sentence:\n",
    "        sentence = sentence.replace(\"sad\", d[\"sad\"])\n",
    "    elif \"mad\" in sentence:\n",
    "        sentence = sentence.replace(\"mad\", d[\"mad\"])\n",
    "        \n",
    "    # Return the modified sentence\n",
    "    return sentence\n",
    "\n",
    "\n",
    "user_input = input(\"Enter a sentence: \")\n",
    "result = replace_emoticons(user_input)\n",
    "print(result) \n"
   ]
  },
  {
   "cell_type": "code",
   "execution_count": 10,
   "id": "1fe280bb-3a10-41be-ae7a-3e656d08fdc8",
   "metadata": {},
   "outputs": [
    {
     "name": "stdout",
     "output_type": "stream",
     "text": [
      "1\n",
      "[2, 3, 4, 5, 6]\n",
      "7\n"
     ]
    }
   ],
   "source": [
    "lst = [1, 2, 3, 4, 5, 6, 7]\n",
    "\n",
    "indx = 1\n",
    "\n",
    "lsts = []\n",
    "\n",
    "print(lst[0])\n",
    "\n",
    "lst.append(\"end\")\n",
    "\n",
    "while True:\n",
    "    lsts.append(lst[indx])\n",
    "    indx += 1\n",
    "    if lst[indx] == \"end\":\n",
    "        lsts.pop()\n",
    "        indx -= 1\n",
    "        break\n",
    "\n",
    "print(lsts)\n",
    "print(lst[indx])"
   ]
  }
 ],
 "metadata": {
  "kernelspec": {
   "display_name": "Python 3 (ipykernel)",
   "language": "python",
   "name": "python3"
  },
  "language_info": {
   "codemirror_mode": {
    "name": "ipython",
    "version": 3
   },
   "file_extension": ".py",
   "mimetype": "text/x-python",
   "name": "python",
   "nbconvert_exporter": "python",
   "pygments_lexer": "ipython3",
   "version": "3.12.4"
  }
 },
 "nbformat": 4,
 "nbformat_minor": 5
}
